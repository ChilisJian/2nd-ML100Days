{
 "cells": [
  {
   "cell_type": "markdown",
   "metadata": {},
   "source": [
    "### 作業\n",
    "目前已經學過許多的模型，相信大家對整體流程應該比較掌握了，這次作業請改用**手寫辨識資料集**，步驟流程都是一樣的，請試著自己撰寫程式碼來完成所有步驟"
   ]
  },
  {
   "cell_type": "code",
   "execution_count": 5,
   "metadata": {},
   "outputs": [],
   "source": [
    "from sklearn import datasets, metrics\n",
    "from sklearn.ensemble import GradientBoostingClassifier\n",
    "from sklearn.model_selection import train_test_split\n"
   ]
  },
  {
   "cell_type": "code",
   "execution_count": 22,
   "metadata": {},
   "outputs": [
    {
     "name": "stdout",
     "output_type": "stream",
     "text": [
      "Acuuracy:  0.9666666666666667\n"
     ]
    }
   ],
   "source": [
    "digits = datasets.load_digits()\n",
    "\n",
    "x_train, x_test, y_train, y_test = train_test_split(digits.data, digits.target, test_size=0.25, random_state=4)\n",
    "# 建立模型\n",
    "\n",
    "#Loss 的選擇，若若改為 exponential 則會變成Adaboosting 演算法，概念念相同但實作稍微不同（但Adaboosting只能分兩類)\n",
    "#n_estimators　每棵樹對最終結果的影響，應與 n_estimators 成反比\n",
    "clf = GradientBoostingClassifier(loss=\"deviance\", learning_rate=0.1,n_estimators =100 )\n",
    "\n",
    "\n",
    "# 訓練模型\n",
    "clf.fit(x_train, y_train)\n",
    "\n",
    "# 預測測試集\n",
    "y_pred = clf.predict(x_test)\n",
    "acc = metrics.accuracy_score(y_test, y_pred)\n",
    "print(\"Acuuracy: \", acc)"
   ]
  },
  {
   "cell_type": "code",
   "execution_count": 26,
   "metadata": {},
   "outputs": [
    {
     "name": "stdout",
     "output_type": "stream",
     "text": [
      "Feature importance:  [0.00000000e+00 7.57642174e-04 7.75039049e-03 6.78704581e-03\n",
      " 1.79733080e-03 5.28925081e-02 1.01026657e-02 2.99131159e-04\n",
      " 0.00000000e+00 1.69325984e-03 1.11330749e-02 5.53297548e-04\n",
      " 6.54529451e-03 1.38253821e-02 1.93437251e-03 5.99347527e-04\n",
      " 2.38113920e-04 3.16013053e-03 1.11959173e-02 3.38916222e-02\n",
      " 2.47828113e-02 9.02249758e-02 6.57710758e-03 3.16766872e-08\n",
      " 3.46683820e-04 2.00691777e-03 4.81030996e-02 1.97070542e-02\n",
      " 3.63110337e-02 2.32174789e-02 8.95655551e-03 4.89019078e-04\n",
      " 0.00000000e+00 6.13197275e-02 4.14539289e-03 9.71646646e-04\n",
      " 7.03058156e-02 1.25566104e-02 2.17731395e-02 0.00000000e+00\n",
      " 0.00000000e+00 9.38022527e-03 8.79755957e-02 6.39078876e-02\n",
      " 1.21916173e-02 1.79150886e-02 1.52872694e-02 2.17969650e-04\n",
      " 0.00000000e+00 9.77896623e-04 7.42341763e-03 2.11957661e-02\n",
      " 1.07492809e-02 1.49610551e-02 2.21397692e-02 1.68842558e-04\n",
      " 0.00000000e+00 3.74582315e-04 3.04503069e-02 2.12876104e-03\n",
      " 5.02105347e-02 7.57870989e-03 1.87951137e-02 9.01868103e-03]\n"
     ]
    }
   ],
   "source": [
    "#print(digits.feature_names) 因為輸入是64個pixel的資料,所以並無 feature_names的資訊　\n",
    "print(\"Feature importance: \", clf.feature_importances_)　#列出64個pixel的重要性參考"
   ]
  },
  {
   "cell_type": "code",
   "execution_count": null,
   "metadata": {},
   "outputs": [],
   "source": []
  }
 ],
 "metadata": {
  "kernelspec": {
   "display_name": "Python 3",
   "language": "python",
   "name": "python3"
  },
  "language_info": {
   "codemirror_mode": {
    "name": "ipython",
    "version": 3
   },
   "file_extension": ".py",
   "mimetype": "text/x-python",
   "name": "python",
   "nbconvert_exporter": "python",
   "pygments_lexer": "ipython3",
   "version": "3.7.3"
  }
 },
 "nbformat": 4,
 "nbformat_minor": 2
}
