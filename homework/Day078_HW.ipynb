{
 "cells": [
  {
   "cell_type": "markdown",
   "metadata": {},
   "source": [
    "## Work\n",
    "1. 請嘗試將 preproc_x 替換成以每筆資料的 min/max 進行標準化至 -1 ~ 1 間，再進行訓練\n",
    "\n",
    "Ans: 最後一個Epoch 得到 15s 308us/step - loss: 0.0607 - acc: 0.9812 - val_loss: 4.5329 - val_acc: 0.51675\n",
    "有overfit 的情況發生\n",
    "\n",
    "\n",
    "2. 請嘗試將 mlp 疊更深 (e.g 5~10 層)，進行訓練後觀察 learning curve 的走勢\n",
    "Ans: \n",
    "MLP改為七層 [512,512,512,256, 256, 128,128]\n",
    "最後一個Epoch 得到 20s 392us/step - loss: 0.0585 - acc: 0.9832 - val_loss: 3.5012 - val_acc: 0.5392\n",
    "仍然有overfit的情況發生, 不過validate set的 loss及acc有比較好一些\n",
    "3. (optional) 請改用 GPU 進行訓練 (如果你有 GPU 的話)，比較使用 CPU 與 GPU 的訓練速度"
   ]
  },
  {
   "cell_type": "code",
   "execution_count": 104,
   "metadata": {},
   "outputs": [
    {
     "data": {
      "text/plain": [
       "'!nvidia-smi'"
      ]
     },
     "execution_count": 104,
     "metadata": {},
     "output_type": "execute_result"
    }
   ],
   "source": [
    "## \n",
    "\"\"\"\n",
    "Your code here (optional)\n",
    "確認硬體資源\n",
    "\"\"\"\n",
    "\"!nvidia-smi\""
   ]
  },
  {
   "cell_type": "code",
   "execution_count": 105,
   "metadata": {},
   "outputs": [],
   "source": [
    "import os\n",
    "import keras\n",
    "\n",
    "# 請嘗試設定 GPU：os.environ\n",
    "os.environ[\"CUDA_VISIBLE_DEVICES\"] = \"\""
   ]
  },
  {
   "cell_type": "code",
   "execution_count": 106,
   "metadata": {},
   "outputs": [],
   "source": [
    "train, test = keras.datasets.cifar10.load_data()"
   ]
  },
  {
   "cell_type": "code",
   "execution_count": 107,
   "metadata": {},
   "outputs": [],
   "source": [
    "## 資料前處理\n",
    "import numpy as np\n",
    "def preproc_x(x, flatten=True):\n",
    " \n",
    "    #print(\"type\",type(x[0][0][0][0]))    \n",
    "\n",
    "    x = np.float_(x)  #一定要一次轉換整個array為float, 不能放在下面的迴圈每個sample分段轉 會有問題(無法轉換成功)\n",
    "    #print(\"type0\",type(x[0][0][0][0]))\n",
    "    for index in range(len(x)):\n",
    "        value_max = float(x[index].max())\n",
    "        value_mix = float(x[index].min())\n",
    "        #float_x = np.float_(x[index]) #在這裡轉換後,即使填回去x[index]也會又轉回uint8\n",
    "        x[index] = ((x[index] -value_mix)/(value_max-value_mix) -0.5)*2\n",
    "        \n",
    "    if flatten:\n",
    "        x = x.reshape((len(x), -1))\n",
    "    return x\n",
    "\n",
    "def preproc_y(y, num_classes=10):\n",
    "    if y.shape[-1] == 1:\n",
    "        y = keras.utils.to_categorical(y, num_classes)\n",
    "    return y    "
   ]
  },
  {
   "cell_type": "code",
   "execution_count": 108,
   "metadata": {},
   "outputs": [],
   "source": [
    "x_train, y_train = train\n",
    "x_test, y_test = test\n",
    "\n",
    "# 資料前處理 - X 標準化\n",
    "x_train = preproc_x(x_train)\n",
    "x_test = preproc_x(x_test)\n",
    "\n",
    "# 資料前處理 -Y 轉成 onehot\n",
    "y_train = preproc_y(y_train)\n",
    "y_test = preproc_y(y_test)"
   ]
  },
  {
   "cell_type": "code",
   "execution_count": 109,
   "metadata": {},
   "outputs": [
    {
     "name": "stdout",
     "output_type": "stream",
     "text": [
      "i= 0\n",
      "n_units= 512\n",
      "i= 1\n",
      "n_units= 512\n",
      "i= 2\n",
      "n_units= 512\n",
      "i= 3\n",
      "n_units= 256\n",
      "i= 4\n",
      "n_units= 256\n",
      "i= 5\n",
      "n_units= 128\n",
      "i= 6\n",
      "n_units= 128\n",
      "_________________________________________________________________\n",
      "Layer (type)                 Output Shape              Param #   \n",
      "=================================================================\n",
      "input_2 (InputLayer)         (None, 3072)              0         \n",
      "_________________________________________________________________\n",
      "hidden_layer1 (Dense)        (None, 512)               1573376   \n",
      "_________________________________________________________________\n",
      "hidden_layer2 (Dense)        (None, 512)               262656    \n",
      "_________________________________________________________________\n",
      "hidden_layer3 (Dense)        (None, 512)               262656    \n",
      "_________________________________________________________________\n",
      "hidden_layer4 (Dense)        (None, 256)               131328    \n",
      "_________________________________________________________________\n",
      "hidden_layer5 (Dense)        (None, 256)               65792     \n",
      "_________________________________________________________________\n",
      "hidden_layer6 (Dense)        (None, 128)               32896     \n",
      "_________________________________________________________________\n",
      "hidden_layer7 (Dense)        (None, 128)               16512     \n",
      "_________________________________________________________________\n",
      "output (Dense)               (None, 10)                1290      \n",
      "=================================================================\n",
      "Total params: 2,346,506\n",
      "Trainable params: 2,346,506\n",
      "Non-trainable params: 0\n",
      "_________________________________________________________________\n"
     ]
    }
   ],
   "source": [
    "\"\"\"Code Here\n",
    "建立你的神經網路\n",
    "\"\"\"\n",
    "def build_mlp(input_shape, output_units=10, num_neurons=[512,512,512,256, 256, 128,128]):\n",
    "    input_layer = keras.layers.Input(input_shape)\n",
    "    for i, n_units in enumerate(num_neurons):\n",
    "        print(\"i=\",i);\n",
    "        print(\"n_units=\",n_units);\n",
    "        if i == 0:            \n",
    "            x = keras.layers.Dense(units=n_units, activation=\"relu\", name=\"hidden_layer\"+str(i+1))(input_layer)\n",
    "        else:\n",
    "            x = keras.layers.Dense(units=n_units, activation=\"relu\", name=\"hidden_layer\"+str(i+1))(x)\n",
    "    \n",
    "    out = keras.layers.Dense(units=output_units, activation=\"softmax\", name=\"output\")(x)\n",
    "    \n",
    "    model = keras.models.Model(inputs=[input_layer], outputs=[out])\n",
    "    return model\n",
    "\n",
    "model = build_mlp(input_shape=x_train.shape[1:])\n",
    "model.summary()"
   ]
  },
  {
   "cell_type": "code",
   "execution_count": 110,
   "metadata": {},
   "outputs": [],
   "source": [
    "## 超參數設定\n",
    "LEARNING_RATE = 0.001\n",
    "EPOCHS = 100\n",
    "BATCH_SIZE = 256"
   ]
  },
  {
   "cell_type": "code",
   "execution_count": 111,
   "metadata": {},
   "outputs": [],
   "source": [
    "optimizer = keras.optimizers.Adam(lr=LEARNING_RATE)\n",
    "model.compile(loss=\"categorical_crossentropy\", metrics=[\"accuracy\"], optimizer=optimizer)"
   ]
  },
  {
   "cell_type": "code",
   "execution_count": 112,
   "metadata": {},
   "outputs": [
    {
     "name": "stdout",
     "output_type": "stream",
     "text": [
      "Train on 50000 samples, validate on 10000 samples\n",
      "Epoch 1/100\n",
      "50000/50000 [==============================] - 21s 414us/step - loss: 1.6883 - acc: 0.3981 - val_loss: 1.5366 - val_acc: 0.4518\n",
      "Epoch 2/100\n",
      "50000/50000 [==============================] - 21s 420us/step - loss: 1.4545 - acc: 0.4856 - val_loss: 1.4342 - val_acc: 0.4889\n",
      "Epoch 3/100\n",
      "50000/50000 [==============================] - 19s 386us/step - loss: 1.3290 - acc: 0.5304 - val_loss: 1.3767 - val_acc: 0.5159\n",
      "Epoch 4/100\n",
      "50000/50000 [==============================] - 19s 382us/step - loss: 1.2384 - acc: 0.5630 - val_loss: 1.3542 - val_acc: 0.5281\n",
      "Epoch 5/100\n",
      "50000/50000 [==============================] - 21s 420us/step - loss: 1.1340 - acc: 0.5988 - val_loss: 1.3752 - val_acc: 0.5263\n",
      "Epoch 6/100\n",
      "50000/50000 [==============================] - 19s 378us/step - loss: 1.0491 - acc: 0.6291 - val_loss: 1.3776 - val_acc: 0.5307\n",
      "Epoch 7/100\n",
      "50000/50000 [==============================] - 20s 399us/step - loss: 0.9586 - acc: 0.6595 - val_loss: 1.3870 - val_acc: 0.5321\n",
      "Epoch 8/100\n",
      "50000/50000 [==============================] - 21s 410us/step - loss: 0.8690 - acc: 0.6908 - val_loss: 1.4316 - val_acc: 0.53026s  - ETA:  - ETA: 0s - loss: 0.8676 - acc: 0. - ETA: 0s - loss: 0.8686 - acc: 0.6\n",
      "Epoch 9/100\n",
      "50000/50000 [==============================] - 22s 431us/step - loss: 0.7955 - acc: 0.7167 - val_loss: 1.4694 - val_acc: 0.5298\n",
      "Epoch 10/100\n",
      "50000/50000 [==============================] - 19s 388us/step - loss: 0.7080 - acc: 0.7475 - val_loss: 1.5385 - val_acc: 0.5448\n",
      "Epoch 11/100\n",
      "50000/50000 [==============================] - 19s 385us/step - loss: 0.6329 - acc: 0.7738 - val_loss: 1.6203 - val_acc: 0.5356\n",
      "Epoch 12/100\n",
      "50000/50000 [==============================] - 20s 400us/step - loss: 0.5668 - acc: 0.7986 - val_loss: 1.6760 - val_acc: 0.5425\n",
      "Epoch 13/100\n",
      "50000/50000 [==============================] - 20s 403us/step - loss: 0.4871 - acc: 0.8268 - val_loss: 1.8115 - val_acc: 0.5364\n",
      "Epoch 14/100\n",
      "50000/50000 [==============================] - 21s 414us/step - loss: 0.4476 - acc: 0.8410 - val_loss: 1.8455 - val_acc: 0.5417\n",
      "Epoch 15/100\n",
      "50000/50000 [==============================] - 20s 394us/step - loss: 0.3813 - acc: 0.8641 - val_loss: 1.9837 - val_acc: 0.5458s - loss: 0.3752 - acc:  - ETA: 1s - loss: 0.37 - ETA: 0s - loss: 0.3813 - acc: 0.864\n",
      "Epoch 16/100\n",
      "50000/50000 [==============================] - 19s 386us/step - loss: 0.3447 - acc: 0.8785 - val_loss: 2.1677 - val_acc: 0.5364\n",
      "Epoch 17/100\n",
      "50000/50000 [==============================] - 21s 429us/step - loss: 0.3114 - acc: 0.8909 - val_loss: 2.1887 - val_acc: 0.5408\n",
      "Epoch 18/100\n",
      "50000/50000 [==============================] - 20s 405us/step - loss: 0.2824 - acc: 0.9014 - val_loss: 2.2673 - val_acc: 0.5370 5s - l\n",
      "Epoch 19/100\n",
      "50000/50000 [==============================] - 20s 404us/step - loss: 0.2497 - acc: 0.9108 - val_loss: 2.4322 - val_acc: 0.5364-  - ETA: 6s - loss: 0.2445  - ETA: 5s - loss: 0.2468\n",
      "Epoch 20/100\n",
      "50000/50000 [==============================] - 21s 430us/step - loss: 0.2278 - acc: 0.9218 - val_loss: 2.4310 - val_acc: 0.5339 loss: 0.211 - ETA: 9s - loss: 0.2146  - ETA\n",
      "Epoch 21/100\n",
      "50000/50000 [==============================] - 21s 429us/step - loss: 0.2157 - acc: 0.9261 - val_loss: 2.6722 - val_acc: 0.5406\n",
      "Epoch 22/100\n",
      "50000/50000 [==============================] - 20s 405us/step - loss: 0.2021 - acc: 0.9301 - val_loss: 2.5863 - val_acc: 0.5322\n",
      "Epoch 23/100\n",
      "50000/50000 [==============================] - 21s 427us/step - loss: 0.1749 - acc: 0.9404 - val_loss: 2.7109 - val_acc: 0.5294\n",
      "Epoch 24/100\n",
      "50000/50000 [==============================] - 22s 443us/step - loss: 0.1688 - acc: 0.9414 - val_loss: 2.6823 - val_acc: 0.5337\n",
      "Epoch 25/100\n",
      "50000/50000 [==============================] - 21s 428us/step - loss: 0.1588 - acc: 0.9465 - val_loss: 2.7859 - val_acc: 0.5400- loss: 0.1588\n",
      "Epoch 26/100\n",
      "50000/50000 [==============================] - 21s 416us/step - loss: 0.1445 - acc: 0.9517 - val_loss: 2.7478 - val_acc: 0.5357s: 0 - ETA: 2s - loss: 0.1417 - acc: 0. - ETA: 1s - loss: 0.1419 - acc:  - ETA: 1s - loss: 0.1423 -\n",
      "Epoch 27/100\n",
      "50000/50000 [==============================] - 22s 447us/step - loss: 0.1445 - acc: 0.9515 - val_loss: 2.8172 - val_acc: 0.5379 ETA: 6s - loss: 0.1376 - a - ETA: 1s - loss: 0.1437 - a - ETA: 0s - loss: 0.1439 - acc: 0.951 - ETA: 0s - loss: 0.1439 - acc: 0.9\n",
      "Epoch 28/100\n",
      "50000/50000 [==============================] - 22s 438us/step - loss: 0.1378 - acc: 0.9540 - val_loss: 2.8929 - val_acc: 0.5370\n",
      "Epoch 29/100\n",
      "50000/50000 [==============================] - 22s 435us/step - loss: 0.1211 - acc: 0.9591 - val_loss: 3.0002 - val_acc: 0.53820.1094  -  - ETA: \n",
      "Epoch 30/100\n",
      "50000/50000 [==============================] - 21s 427us/step - loss: 0.1215 - acc: 0.9598 - val_loss: 3.0185 - val_acc: 0.5316 - E - ETA: 2s - loss: 0.1206 -  - ETA: 0s - loss: 0.1208 - ac\n",
      "Epoch 31/100\n",
      "50000/50000 [==============================] - 21s 430us/step - loss: 0.1207 - acc: 0.9595 - val_loss: 2.8482 - val_acc: 0.5311 0.9 - ETA: 8s - loss: 0.  - ETA: 2s - loss: \n",
      "Epoch 32/100\n",
      "50000/50000 [==============================] - 23s 457us/step - loss: 0.1215 - acc: 0.9601 - val_loss: 2.9311 - val_acc: 0.5392: 4s - loss: 0.1161 - acc: 0.9 - E\n",
      "Epoch 33/100\n",
      "50000/50000 [==============================] - 21s 425us/step - loss: 0.1036 - acc: 0.9656 - val_loss: 2.9563 - val_acc: 0.5353 - loss: 0.1004 - a - ETA: 1s - loss: 0.\n",
      "Epoch 34/100\n",
      "50000/50000 [==============================] - 22s 430us/step - loss: 0.1028 - acc: 0.9671 - val_loss: 2.9848 - val_acc: 0.5355 - loss:\n",
      "Epoch 35/100\n",
      "50000/50000 [==============================] - 23s 452us/step - loss: 0.1021 - acc: 0.9661 - val_loss: 3.0049 - val_acc: 0.5444 acc: 0.9 - ETA: 6s - loss: 0.0972 - acc: 0. - ETA: 5s - loss: 0.0977 - a - ETA: 4s - loss: 0.0995 -  - ETA: 3s - loss: 0.1002 - acc: 0. - ETA: 2s -  - ETA: 0s - loss: 0.1024 - acc: 0.9\n",
      "Epoch 36/100\n",
      "50000/50000 [==============================] - 21s 430us/step - loss: 0.1010 - acc: 0.9663 - val_loss: 3.1152 - val_acc: 0.5405oss: 0.09 - ETA: 15s - loss: 0.0961 - acc: 0. - ETA:  - ETA: 11s -  - ETA: 2s - l - ETA: 0s - loss: 0.1011 - acc: 0.966\n",
      "Epoch 37/100\n",
      "50000/50000 [==============================] - 22s 434us/step - loss: 0.0952 - acc: 0.9687 - val_loss: 3.0693 - val_acc: 0.5375s - loss: 0.0904 - acc:  - ETA:  - ETA: 3s - loss: 0.0944 - acc: 0.969 - ETA: 3s - los - ETA: 1s - loss: 0.0956 \n",
      "Epoch 38/100\n",
      "50000/50000 [==============================] - 22s 445us/step - loss: 0.1055 - acc: 0.9664 - val_loss: 2.9045 - val_acc: 0.5362s: 0.1055 - acc: 0.966\n",
      "Epoch 39/100\n",
      "50000/50000 [==============================] - 21s 421us/step - loss: 0.0948 - acc: 0.9687 - val_loss: 3.0794 - val_acc: 0.5316\n",
      "Epoch 40/100\n",
      "50000/50000 [==============================] - 21s 427us/step - loss: 0.0984 - acc: 0.9679 - val_loss: 2.9410 - val_acc: 0.5340\n",
      "Epoch 41/100\n",
      "50000/50000 [==============================] - 23s 452us/step - loss: 0.0853 - acc: 0.9733 - val_loss: 3.3497 - val_acc: 0.5362774 - acc: - ETA: 8s - loss: 0.0779 - acc:  - ETA: 8s - loss: 0.0800 - acc: 0.9 - ETA: 7s - - ETA: 1s - loss: 0.0857 - acc: 0.9 - ETA: 0s - loss: 0.0855 - ac\n",
      "Epoch 42/100\n",
      "50000/50000 [==============================] - 22s 442us/step - loss: 0.0894 - acc: 0.9717 - val_loss: 3.0590 - val_acc: 0.5393\n",
      "Epoch 43/100\n",
      "50000/50000 [==============================] - 21s 428us/step - loss: 0.0797 - acc: 0.9735 - val_loss: 3.3106 - val_acc: 0.5449\n",
      "Epoch 44/100\n",
      "50000/50000 [==============================] - 20s 405us/step - loss: 0.0864 - acc: 0.9720 - val_loss: 3.1981 - val_acc: 0.5428- acc: 0. - ETA: 0s - loss: 0.0865 - acc: 0.97\n",
      "Epoch 45/100\n",
      "50000/50000 [==============================] - 20s 394us/step - loss: 0.0803 - acc: 0.9742 - val_loss: 3.2280 - val_acc: 0.5355\n",
      "Epoch 46/100\n",
      "50000/50000 [==============================] - 20s 408us/step - loss: 0.0758 - acc: 0.9768 - val_loss: 3.0816 - val_acc: 0.5411\n",
      "Epoch 47/100\n"
     ]
    },
    {
     "name": "stdout",
     "output_type": "stream",
     "text": [
      "50000/50000 [==============================] - 21s 427us/step - loss: 0.0688 - acc: 0.9776 - val_loss: 3.2179 - val_acc: 0.5321: 6s - loss: 0.0629 - acc: 0.979 - ETA: 6s - loss: 0.0630 - acc - ETA: 5s - loss: 0.0638 - acc: 0.97 - ETA: 5s - loss: 0.0638 - acc - ETA: 4s - loss: 0.0646 - acc: 0.9 - ETA: 0s - loss: 0.0688 - acc: 0.9\n",
      "Epoch 48/100\n",
      "50000/50000 [==============================] - 19s 378us/step - loss: 0.0844 - acc: 0.9722 - val_loss: 3.0526 - val_acc: 0.5368\n",
      "Epoch 49/100\n",
      "50000/50000 [==============================] - 19s 380us/step - loss: 0.0693 - acc: 0.9782 - val_loss: 3.2328 - val_acc: 0.5344\n",
      "Epoch 50/100\n",
      "50000/50000 [==============================] - 19s 383us/step - loss: 0.0714 - acc: 0.9766 - val_loss: 3.1850 - val_acc: 0.5333\n",
      "Epoch 51/100\n",
      "50000/50000 [==============================] - 21s 416us/step - loss: 0.0748 - acc: 0.9757 - val_loss: 3.1884 - val_acc: 0.5396\n",
      "Epoch 52/100\n",
      "50000/50000 [==============================] - 19s 380us/step - loss: 0.0747 - acc: 0.9757 - val_loss: 3.0317 - val_acc: 0.5390\n",
      "Epoch 53/100\n",
      "50000/50000 [==============================] - 19s 388us/step - loss: 0.0759 - acc: 0.9753 - val_loss: 3.3234 - val_acc: 0.5375\n",
      "Epoch 54/100\n",
      "50000/50000 [==============================] - 19s 382us/step - loss: 0.0768 - acc: 0.9754 - val_loss: 2.9117 - val_acc: 0.5361\n",
      "Epoch 55/100\n",
      "50000/50000 [==============================] - 19s 374us/step - loss: 0.0674 - acc: 0.9789 - val_loss: 3.2627 - val_acc: 0.5448\n",
      "Epoch 56/100\n",
      "50000/50000 [==============================] - 21s 420us/step - loss: 0.0748 - acc: 0.9763 - val_loss: 3.0951 - val_acc: 0.5426\n",
      "Epoch 57/100\n",
      "50000/50000 [==============================] - 19s 376us/step - loss: 0.0634 - acc: 0.9806 - val_loss: 3.1361 - val_acc: 0.5379\n",
      "Epoch 58/100\n",
      "50000/50000 [==============================] - 19s 371us/step - loss: 0.0590 - acc: 0.9806 - val_loss: 3.3872 - val_acc: 0.5362\n",
      "Epoch 59/100\n",
      "50000/50000 [==============================] - 19s 375us/step - loss: 0.0625 - acc: 0.9799 - val_loss: 3.3613 - val_acc: 0.5319\n",
      "Epoch 60/100\n",
      "50000/50000 [==============================] - 19s 381us/step - loss: 0.0724 - acc: 0.9770 - val_loss: 3.1131 - val_acc: 0.5435\n",
      "Epoch 61/100\n",
      "50000/50000 [==============================] - 21s 413us/step - loss: 0.0755 - acc: 0.9768 - val_loss: 3.2223 - val_acc: 0.5316\n",
      "Epoch 62/100\n",
      "50000/50000 [==============================] - 19s 372us/step - loss: 0.0565 - acc: 0.9817 - val_loss: 3.3779 - val_acc: 0.5397\n",
      "Epoch 63/100\n",
      "50000/50000 [==============================] - 19s 380us/step - loss: 0.0680 - acc: 0.9785 - val_loss: 3.3700 - val_acc: 0.5359\n",
      "Epoch 64/100\n",
      "50000/50000 [==============================] - 19s 376us/step - loss: 0.0544 - acc: 0.9827 - val_loss: 3.4033 - val_acc: 0.5370\n",
      "Epoch 65/100\n",
      "50000/50000 [==============================] - 19s 374us/step - loss: 0.0593 - acc: 0.9810 - val_loss: 3.2910 - val_acc: 0.5395\n",
      "Epoch 66/100\n",
      "50000/50000 [==============================] - 20s 400us/step - loss: 0.0492 - acc: 0.9841 - val_loss: 3.3941 - val_acc: 0.5404\n",
      "Epoch 67/100\n",
      "50000/50000 [==============================] - 20s 395us/step - loss: 0.0527 - acc: 0.9837 - val_loss: 3.2608 - val_acc: 0.5406\n",
      "Epoch 68/100\n",
      "50000/50000 [==============================] - 19s 381us/step - loss: 0.0524 - acc: 0.9834 - val_loss: 3.4712 - val_acc: 0.5368\n",
      "Epoch 69/100\n",
      "50000/50000 [==============================] - 19s 371us/step - loss: 0.0752 - acc: 0.9771 - val_loss: 3.2188 - val_acc: 0.5352\n",
      "Epoch 70/100\n",
      "50000/50000 [==============================] - 20s 406us/step - loss: 0.0601 - acc: 0.9811 - val_loss: 3.3889 - val_acc: 0.5428\n",
      "Epoch 71/100\n",
      "50000/50000 [==============================] - 20s 401us/step - loss: 0.0507 - acc: 0.9839 - val_loss: 3.2555 - val_acc: 0.5397\n",
      "Epoch 72/100\n",
      "50000/50000 [==============================] - 19s 378us/step - loss: 0.0622 - acc: 0.9809 - val_loss: 3.3042 - val_acc: 0.5386\n",
      "Epoch 73/100\n",
      "50000/50000 [==============================] - 19s 387us/step - loss: 0.0542 - acc: 0.9839 - val_loss: 3.3767 - val_acc: 0.5377\n",
      "Epoch 74/100\n",
      "50000/50000 [==============================] - 19s 385us/step - loss: 0.0586 - acc: 0.9820 - val_loss: 3.4704 - val_acc: 0.5386\n",
      "Epoch 75/100\n",
      "50000/50000 [==============================] - 20s 396us/step - loss: 0.0446 - acc: 0.9856 - val_loss: 3.3640 - val_acc: 0.5407\n",
      "Epoch 76/100\n",
      "50000/50000 [==============================] - 20s 392us/step - loss: 0.0518 - acc: 0.9845 - val_loss: 3.0375 - val_acc: 0.53910.0500 - \n",
      "Epoch 77/100\n",
      "50000/50000 [==============================] - 19s 384us/step - loss: 0.0534 - acc: 0.9836 - val_loss: 3.4098 - val_acc: 0.5409\n",
      "Epoch 78/100\n",
      "50000/50000 [==============================] - 19s 375us/step - loss: 0.0467 - acc: 0.9855 - val_loss: 3.3409 - val_acc: 0.5352\n",
      "Epoch 79/100\n",
      "50000/50000 [==============================] - 19s 379us/step - loss: 0.0445 - acc: 0.9859 - val_loss: 3.3951 - val_acc: 0.5481c: 0.986 - ETA: 0s - loss: 0.0440 - ac\n",
      "Epoch 80/100\n",
      "50000/50000 [==============================] - 21s 416us/step - loss: 0.0613 - acc: 0.9811 - val_loss: 3.0698 - val_acc: 0.5425\n",
      "Epoch 81/100\n",
      "50000/50000 [==============================] - 20s 391us/step - loss: 0.0621 - acc: 0.9807 - val_loss: 3.2657 - val_acc: 0.5431\n",
      "Epoch 82/100\n",
      "50000/50000 [==============================] - 19s 378us/step - loss: 0.0571 - acc: 0.9825 - val_loss: 3.3282 - val_acc: 0.5433\n",
      "Epoch 83/100\n",
      "50000/50000 [==============================] - 19s 375us/step - loss: 0.0477 - acc: 0.9843 - val_loss: 3.4608 - val_acc: 0.5383\n",
      "Epoch 84/100\n",
      "50000/50000 [==============================] - 20s 393us/step - loss: 0.0427 - acc: 0.9866 - val_loss: 3.6081 - val_acc: 0.54642s - los\n",
      "Epoch 85/100\n",
      "50000/50000 [==============================] - 21s 412us/step - loss: 0.0486 - acc: 0.9851 - val_loss: 3.3628 - val_acc: 0.5429\n",
      "Epoch 86/100\n",
      "50000/50000 [==============================] - 19s 381us/step - loss: 0.0490 - acc: 0.9846 - val_loss: 3.4073 - val_acc: 0.5390\n",
      "Epoch 87/100\n",
      "50000/50000 [==============================] - 20s 392us/step - loss: 0.0477 - acc: 0.9855 - val_loss: 3.3912 - val_acc: 0.5378\n",
      "Epoch 88/100\n",
      "50000/50000 [==============================] - 19s 380us/step - loss: 0.0456 - acc: 0.9861 - val_loss: 3.4983 - val_acc: 0.5379\n",
      "Epoch 89/100\n",
      "50000/50000 [==============================] - 20s 395us/step - loss: 0.0474 - acc: 0.9862 - val_loss: 3.2355 - val_acc: 0.5409\n",
      "Epoch 90/100\n",
      "50000/50000 [==============================] - 20s 395us/step - loss: 0.0468 - acc: 0.9859 - val_loss: 3.4517 - val_acc: 0.5450\n",
      "Epoch 91/100\n",
      "50000/50000 [==============================] - 20s 393us/step - loss: 0.0453 - acc: 0.9858 - val_loss: 3.5512 - val_acc: 0.5416TA: 5 - ETA: \n",
      "Epoch 92/100\n",
      "50000/50000 [==============================] - 19s 386us/step - loss: 0.0597 - acc: 0.9819 - val_loss: 3.5006 - val_acc: 0.5420\n",
      "Epoch 93/100\n",
      "50000/50000 [==============================] - 20s 404us/step - loss: 0.0410 - acc: 0.9873 - val_loss: 3.7100 - val_acc: 0.5390\n",
      "Epoch 94/100\n",
      "50000/50000 [==============================] - 20s 402us/step - loss: 0.0515 - acc: 0.9847 - val_loss: 3.4520 - val_acc: 0.5397 2s - loss: 0.0494 - acc: 0.98 - ETA: 2\n",
      "Epoch 95/100\n",
      "50000/50000 [==============================] - 20s 392us/step - loss: 0.0464 - acc: 0.9866 - val_loss: 3.4911 - val_acc: 0.5374\n",
      "Epoch 96/100\n",
      "50000/50000 [==============================] - 19s 380us/step - loss: 0.0431 - acc: 0.9869 - val_loss: 3.5372 - val_acc: 0.5453\n",
      "Epoch 97/100\n",
      "50000/50000 [==============================] - 20s 398us/step - loss: 0.0421 - acc: 0.9877 - val_loss: 3.4754 - val_acc: 0.5414\n",
      "Epoch 98/100\n",
      "50000/50000 [==============================] - 21s 416us/step - loss: 0.0422 - acc: 0.9881 - val_loss: 3.7874 - val_acc: 0.5446\n",
      "Epoch 99/100\n",
      "50000/50000 [==============================] - 19s 388us/step - loss: 0.0501 - acc: 0.9853 - val_loss: 3.4359 - val_acc: 0.5480\n",
      "Epoch 100/100\n",
      "50000/50000 [==============================] - 20s 392us/step - loss: 0.0585 - acc: 0.9832 - val_loss: 3.5012 - val_acc: 0.5392\n"
     ]
    },
    {
     "data": {
      "text/plain": [
       "<keras.callbacks.History at 0x107be828>"
      ]
     },
     "execution_count": 112,
     "metadata": {},
     "output_type": "execute_result"
    }
   ],
   "source": [
    "model.fit(x_train, y_train, \n",
    "          epochs=EPOCHS, \n",
    "          batch_size=BATCH_SIZE, \n",
    "          validation_data=(x_test, y_test), \n",
    "          shuffle=True)"
   ]
  },
  {
   "cell_type": "code",
   "execution_count": 114,
   "metadata": {},
   "outputs": [
    {
     "data": {
      "image/png": "[encoded data removed]",
      "text/plain": [
       "<Figure size 432x288 with 1 Axes>"
      ]
     },
     "metadata": {
      "needs_background": "light"
     },
     "output_type": "display_data"
    },
    {
     "data": {
      "image/png": "[encoded data removed]",
      "text/plain": [
       "<Figure size 432x288 with 1 Axes>"
      ]
     },
     "metadata": {
      "needs_background": "light"
     },
     "output_type": "display_data"
    }
   ],
   "source": [
    "import matplotlib.pyplot as plt\n",
    "\n",
    "\n",
    "train_loss = model.history.history[\"loss\"]\n",
    "valid_loss = model.history.history[\"val_loss\"]\n",
    "\n",
    "train_acc = model.history.history[\"acc\"]\n",
    "valid_acc = model.history.history[\"val_acc\"]\n",
    "\n",
    "plt.plot(range(len(train_loss)), train_loss, label=\"train loss\")\n",
    "plt.plot(range(len(valid_loss)), valid_loss, label=\"valid loss\")\n",
    "plt.legend()\n",
    "plt.title(\"Loss\")\n",
    "plt.show()\n",
    "\n",
    "plt.plot(range(len(train_acc)), train_acc, label=\"train accuracy\")\n",
    "plt.plot(range(len(valid_acc)), valid_acc, label=\"valid accuracy\")\n",
    "plt.legend()\n",
    "plt.title(\"Accuracy\")\n",
    "plt.show()"
   ]
  },
  {
   "cell_type": "code",
   "execution_count": null,
   "metadata": {},
   "outputs": [],
   "source": []
  }
 ],
 "metadata": {
  "kernelspec": {
   "display_name": "Python 3",
   "language": "python",
   "name": "python3"
  },
  "language_info": {
   "codemirror_mode": {
    "name": "ipython",
    "version": 3
   },
   "file_extension": ".py",
   "mimetype": "text/x-python",
   "name": "python",
   "nbconvert_exporter": "python",
   "pygments_lexer": "ipython3",
   "version": "3.7.3"
  }
 },
 "nbformat": 4,
 "nbformat_minor": 2
}
