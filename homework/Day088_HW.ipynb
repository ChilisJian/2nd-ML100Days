{
 "cells": [
  {
   "cell_type": "markdown",
   "metadata": {},
   "source": [
    "## Work\n",
    "1. 請嘗試寫一個 callback 用來記錄各類別在訓練過程中，對驗證集的 True Positive 與 True Negative"
   ]
  },
  {
   "cell_type": "code",
   "execution_count": 1,
   "metadata": {},
   "outputs": [
    {
     "name": "stderr",
     "output_type": "stream",
     "text": [
      "Using TensorFlow backend.\n"
     ]
    }
   ],
   "source": [
    "import os\n",
    "import keras\n",
    "\n",
    "os.environ[\"CUDA_VISIBLE_DEVICES\"] = \"1\"\n",
    "\n",
    "import tensorflow as tf\n",
    "from keras.backend.tensorflow_backend import set_session\n",
    "config = tf.ConfigProto()\n",
    "config.gpu_options.allocator_type = 'BFC' #A \"Best-fit with coalescing\" algorithm, simplified from a version of dlmalloc.\n",
    "config.gpu_options.per_process_gpu_memory_fraction = 0.3\n",
    "config.gpu_options.allow_growth = True\n",
    "set_session(tf.Session(config=config)) "
   ]
  },
  {
   "cell_type": "code",
   "execution_count": 2,
   "metadata": {},
   "outputs": [],
   "source": [
    "train, test = keras.datasets.cifar10.load_data()"
   ]
  },
  {
   "cell_type": "code",
   "execution_count": 3,
   "metadata": {},
   "outputs": [],
   "source": [
    "## 資料前處理\n",
    "def preproc_x(x, flatten=True):\n",
    "    x = x / 255.\n",
    "    if flatten:\n",
    "        x = x.reshape((len(x), -1))\n",
    "    return x\n",
    "\n",
    "def preproc_y(y, num_classes=10):\n",
    "    if y.shape[-1] == 1:\n",
    "        y = keras.utils.to_categorical(y, num_classes)\n",
    "    return y    "
   ]
  },
  {
   "cell_type": "code",
   "execution_count": 4,
   "metadata": {},
   "outputs": [],
   "source": [
    "x_train, y_train = train\n",
    "x_test, y_test = test\n",
    "\n",
    "# Preproc the inputs\n",
    "x_train = preproc_x(x_train)\n",
    "x_test = preproc_x(x_test)\n",
    "\n",
    "# Preprc the outputs\n",
    "y_train = preproc_y(y_train)\n",
    "y_test = preproc_y(y_test)"
   ]
  },
  {
   "cell_type": "code",
   "execution_count": 5,
   "metadata": {},
   "outputs": [],
   "source": [
    "from keras.layers import BatchNormalization\n",
    "def build_mlp(input_shape, output_units=10, num_neurons=[256, 256, 256]):\n",
    "    \"\"\"Code Here\n",
    "    建立你的神經網路\n",
    "    \"\"\"\n",
    "    input_layer = keras.layers.Input(input_shape)\n",
    "    \n",
    "    for i, n_units in enumerate(num_neurons):\n",
    "        if i == 0:\n",
    "            x = keras.layers.Dense(units=n_units, \n",
    "                                   activation=\"relu\", \n",
    "                                   name=\"hidden_layer\"+str(i+1))(input_layer)\n",
    "            x = BatchNormalization()(x)\n",
    "        else:\n",
    "            x = keras.layers.Dense(units=n_units, \n",
    "                                   activation=\"relu\", \n",
    "                                   name=\"hidden_layer\"+str(i+1))(x)\n",
    "            x = BatchNormalization()(x)\n",
    "    \n",
    "    out = keras.layers.Dense(units=output_units, activation=\"softmax\", name=\"output\")(x)\n",
    "    \n",
    "    model = keras.models.Model(inputs=[input_layer], outputs=[out])\n",
    "    return model"
   ]
  },
  {
   "cell_type": "code",
   "execution_count": 6,
   "metadata": {},
   "outputs": [],
   "source": [
    "## 超參數設定\n",
    "LEARNING_RATE = 1e-3\n",
    "EPOCHS = 25\n",
    "BATCH_SIZE = 1024\n",
    "MOMENTUM = 0.95"
   ]
  },
  {
   "cell_type": "code",
   "execution_count": 17,
   "metadata": {},
   "outputs": [],
   "source": [
    "# 載入 Callbacks\n",
    "from keras.callbacks import Callback\n",
    "\n",
    "# Record_fp_tp\n",
    "class Record_tp_tn(Callback):\n",
    "    \"\"\"Code Here\n",
    "    撰寫一個紀錄 ture positive 與 true negative 數量的 callbacks    \n",
    "    \"\"\"\n",
    "    def on_train_begin(self, epoch, logs = {}):\n",
    "        logs = logs or {}\n",
    "        record_items = [\"val_auc\", \"val_f1sc\", \"val_fp\", \"val_fn\", \"val_tp\", \"val_tn\"]\n",
    "        for i in record_items:\n",
    "            if i not in self.params['metrics']:\n",
    "                self.params['metrics'].append(i)\n",
    "    \n",
    "    def on_epoch_end(self, epoch, logs = {}, thres=0.5):\n",
    "        logs = logs or {}\n",
    "        y_true = self.validation_data[1].argmax(axis = 1)\n",
    "        y_pred = self.model.predict(self.validation_data[0])\n",
    "        y_pred = (y_pred[:, 1] >= thres) * 1\n",
    "        \n",
    "        #print(\"type(y_pred)=\",type(y_pred))\n",
    "        #print(\"type(y_true)=\",type(y_true))\n",
    "        true_positive = y_true.astype(\"bool\") & y_pred.astype(\"bool\")\n",
    "        true_negative = (~y_true.astype(\"bool\")) & (~y_pred.astype(\"bool\"))\n",
    "        logs[\"val_tp\"] = true_positive.sum()\n",
    "        logs[\"val_tn\"] = true_negative.sum()\n",
    "                \n",
    "rec_tptn = Record_tp_tn()"
   ]
  },
  {
   "cell_type": "code",
   "execution_count": 18,
   "metadata": {
    "scrolled": true
   },
   "outputs": [
    {
     "name": "stdout",
     "output_type": "stream",
     "text": [
      "_________________________________________________________________\n",
      "Layer (type)                 Output Shape              Param #   \n",
      "=================================================================\n",
      "input_3 (InputLayer)         (None, 3072)              0         \n",
      "_________________________________________________________________\n",
      "hidden_layer1 (Dense)        (None, 256)               786688    \n",
      "_________________________________________________________________\n",
      "batch_normalization_7 (Batch (None, 256)               1024      \n",
      "_________________________________________________________________\n",
      "hidden_layer2 (Dense)        (None, 256)               65792     \n",
      "_________________________________________________________________\n",
      "batch_normalization_8 (Batch (None, 256)               1024      \n",
      "_________________________________________________________________\n",
      "hidden_layer3 (Dense)        (None, 256)               65792     \n",
      "_________________________________________________________________\n",
      "batch_normalization_9 (Batch (None, 256)               1024      \n",
      "_________________________________________________________________\n",
      "output (Dense)               (None, 10)                2570      \n",
      "=================================================================\n",
      "Total params: 923,914\n",
      "Trainable params: 922,378\n",
      "Non-trainable params: 1,536\n",
      "_________________________________________________________________\n",
      "Train on 50000 samples, validate on 10000 samples\n",
      "Epoch 1/25\n",
      "50000/50000 [==============================] - 5s 94us/step - loss: 2.2491 - acc: 0.2666 - val_loss: 2.3429 - val_acc: 0.2747\n",
      "type(y_pred)= <class 'numpy.ndarray'>\n",
      "type(y_true)= <class 'numpy.ndarray'>\n",
      "Epoch 2/25\n",
      "50000/50000 [==============================] - 4s 77us/step - loss: 1.7669 - acc: 0.3844 - val_loss: 1.8770 - val_acc: 0.3668\n",
      "type(y_pred)= <class 'numpy.ndarray'>\n",
      "type(y_true)= <class 'numpy.ndarray'>\n",
      "Epoch 3/25\n",
      "50000/50000 [==============================] - 4s 76us/step - loss: 1.6383 - acc: 0.4261 - val_loss: 1.7130 - val_acc: 0.4007\n",
      "type(y_pred)= <class 'numpy.ndarray'>\n",
      "type(y_true)= <class 'numpy.ndarray'>\n",
      "Epoch 4/25\n",
      "50000/50000 [==============================] - 4s 74us/step - loss: 1.5643 - acc: 0.4518 - val_loss: 1.6455 - val_acc: 0.4235\n",
      "type(y_pred)= <class 'numpy.ndarray'>\n",
      "type(y_true)= <class 'numpy.ndarray'>\n",
      "Epoch 5/25\n",
      "50000/50000 [==============================] - 4s 75us/step - loss: 1.5091 - acc: 0.4718 - val_loss: 1.6131 - val_acc: 0.4318\n",
      "type(y_pred)= <class 'numpy.ndarray'>\n",
      "type(y_true)= <class 'numpy.ndarray'>\n",
      "Epoch 6/25\n",
      "50000/50000 [==============================] - 4s 75us/step - loss: 1.4680 - acc: 0.4863 - val_loss: 1.5814 - val_acc: 0.4463\n",
      "type(y_pred)= <class 'numpy.ndarray'>\n",
      "type(y_true)= <class 'numpy.ndarray'>\n",
      "Epoch 7/25\n",
      "50000/50000 [==============================] - 4s 74us/step - loss: 1.4325 - acc: 0.4984 - val_loss: 1.5743 - val_acc: 0.4473\n",
      "type(y_pred)= <class 'numpy.ndarray'>\n",
      "type(y_true)= <class 'numpy.ndarray'>\n",
      "Epoch 8/25\n",
      "50000/50000 [==============================] - 4s 74us/step - loss: 1.3998 - acc: 0.5097 - val_loss: 1.5395 - val_acc: 0.4564\n",
      "type(y_pred)= <class 'numpy.ndarray'>\n",
      "type(y_true)= <class 'numpy.ndarray'>\n",
      "Epoch 9/25\n",
      "50000/50000 [==============================] - 4s 74us/step - loss: 1.3696 - acc: 0.5224 - val_loss: 1.5377 - val_acc: 0.4595\n",
      "type(y_pred)= <class 'numpy.ndarray'>\n",
      "type(y_true)= <class 'numpy.ndarray'>\n",
      "Epoch 10/25\n",
      "50000/50000 [==============================] - 4s 74us/step - loss: 1.3441 - acc: 0.5317 - val_loss: 1.5257 - val_acc: 0.4636\n",
      "type(y_pred)= <class 'numpy.ndarray'>\n",
      "type(y_true)= <class 'numpy.ndarray'>\n",
      "Epoch 11/25\n",
      "50000/50000 [==============================] - 4s 75us/step - loss: 1.3164 - acc: 0.5420 - val_loss: 1.5129 - val_acc: 0.4661\n",
      "type(y_pred)= <class 'numpy.ndarray'>\n",
      "type(y_true)= <class 'numpy.ndarray'>\n",
      "Epoch 12/25\n",
      "50000/50000 [==============================] - 4s 76us/step - loss: 1.2928 - acc: 0.5517 - val_loss: 1.4860 - val_acc: 0.4744\n",
      "type(y_pred)= <class 'numpy.ndarray'>\n",
      "type(y_true)= <class 'numpy.ndarray'>\n",
      "Epoch 13/25\n",
      "50000/50000 [==============================] - 4s 75us/step - loss: 1.2700 - acc: 0.5591 - val_loss: 1.4878 - val_acc: 0.4795\n",
      "type(y_pred)= <class 'numpy.ndarray'>\n",
      "type(y_true)= <class 'numpy.ndarray'>\n",
      "Epoch 14/25\n",
      "50000/50000 [==============================] - 4s 75us/step - loss: 1.2484 - acc: 0.5674 - val_loss: 1.4854 - val_acc: 0.4764\n",
      "type(y_pred)= <class 'numpy.ndarray'>\n",
      "type(y_true)= <class 'numpy.ndarray'>\n",
      "Epoch 15/25\n",
      "50000/50000 [==============================] - 4s 75us/step - loss: 1.2267 - acc: 0.5742 - val_loss: 1.4775 - val_acc: 0.4766\n",
      "type(y_pred)= <class 'numpy.ndarray'>\n",
      "type(y_true)= <class 'numpy.ndarray'>\n",
      "Epoch 16/25\n",
      "50000/50000 [==============================] - 4s 75us/step - loss: 1.2057 - acc: 0.5835 - val_loss: 1.4637 - val_acc: 0.4879\n",
      "type(y_pred)= <class 'numpy.ndarray'>\n",
      "type(y_true)= <class 'numpy.ndarray'>\n",
      "Epoch 17/25\n",
      "50000/50000 [==============================] - 4s 75us/step - loss: 1.1851 - acc: 0.5905 - val_loss: 1.4605 - val_acc: 0.4844\n",
      "type(y_pred)= <class 'numpy.ndarray'>\n",
      "type(y_true)= <class 'numpy.ndarray'>\n",
      "Epoch 18/25\n",
      "50000/50000 [==============================] - 4s 75us/step - loss: 1.1673 - acc: 0.5972 - val_loss: 1.4555 - val_acc: 0.4926\n",
      "type(y_pred)= <class 'numpy.ndarray'>\n",
      "type(y_true)= <class 'numpy.ndarray'>\n",
      "Epoch 19/25\n",
      "50000/50000 [==============================] - 4s 76us/step - loss: 1.1479 - acc: 0.6031 - val_loss: 1.4593 - val_acc: 0.4852\n",
      "type(y_pred)= <class 'numpy.ndarray'>\n",
      "type(y_true)= <class 'numpy.ndarray'>\n",
      "Epoch 20/25\n",
      "50000/50000 [==============================] - 4s 75us/step - loss: 1.1290 - acc: 0.6136 - val_loss: 1.4615 - val_acc: 0.4852\n",
      "type(y_pred)= <class 'numpy.ndarray'>\n",
      "type(y_true)= <class 'numpy.ndarray'>\n",
      "Epoch 21/25\n",
      "50000/50000 [==============================] - 4s 76us/step - loss: 1.1109 - acc: 0.6185 - val_loss: 1.4482 - val_acc: 0.4915\n",
      "type(y_pred)= <class 'numpy.ndarray'>\n",
      "type(y_true)= <class 'numpy.ndarray'>\n",
      "Epoch 22/25\n",
      "50000/50000 [==============================] - 4s 75us/step - loss: 1.0937 - acc: 0.6249 - val_loss: 1.4450 - val_acc: 0.4913\n",
      "type(y_pred)= <class 'numpy.ndarray'>\n",
      "type(y_true)= <class 'numpy.ndarray'>\n",
      "Epoch 23/25\n",
      "50000/50000 [==============================] - 4s 75us/step - loss: 1.0771 - acc: 0.6310 - val_loss: 1.4476 - val_acc: 0.4937\n",
      "type(y_pred)= <class 'numpy.ndarray'>\n",
      "type(y_true)= <class 'numpy.ndarray'>\n",
      "Epoch 24/25\n",
      "50000/50000 [==============================] - 4s 75us/step - loss: 1.0607 - acc: 0.6369 - val_loss: 1.4607 - val_acc: 0.4897\n",
      "type(y_pred)= <class 'numpy.ndarray'>\n",
      "type(y_true)= <class 'numpy.ndarray'>\n",
      "Epoch 25/25\n",
      "50000/50000 [==============================] - 4s 75us/step - loss: 1.0421 - acc: 0.6446 - val_loss: 1.4552 - val_acc: 0.4939\n",
      "type(y_pred)= <class 'numpy.ndarray'>\n",
      "type(y_true)= <class 'numpy.ndarray'>\n"
     ]
    }
   ],
   "source": [
    "model = build_mlp(input_shape=x_train.shape[1:])\n",
    "model.summary()\n",
    "optimizer = keras.optimizers.SGD(lr=LEARNING_RATE, nesterov=True, momentum=MOMENTUM)\n",
    "model.compile(loss=\"categorical_crossentropy\", metrics=[\"accuracy\"], optimizer=optimizer)\n",
    "\n",
    "\"\"\"Code Here\n",
    "將 callbacks 放入模型訓練流程中\n",
    "\"\"\"\n",
    "\n",
    "model.fit(x_train, y_train, \n",
    "          epochs=EPOCHS, \n",
    "          batch_size=BATCH_SIZE, \n",
    "          validation_data=(x_test, y_test), \n",
    "          shuffle=True,\n",
    "          callbacks=[rec_tptn]\n",
    "         )\n",
    "\n",
    "# Collect results\n",
    "train_loss = model.history.history[\"loss\"]\n",
    "valid_loss = model.history.history[\"val_loss\"]\n",
    "train_acc = model.history.history[\"acc\"]\n",
    "valid_acc = model.history.history[\"val_acc\"]\n",
    "\n",
    "\"\"\"Code Here\n",
    "將 tp/tn 從訓練完的模型中取出\n",
    "\"\"\"\n",
    "valid_tp = model.history.history[\"val_tp\"]\n",
    "valid_tn = model.history.history[\"val_tn\"]"
   ]
  },
  {
   "cell_type": "code",
   "execution_count": 19,
   "metadata": {},
   "outputs": [
    {
     "data": {
      "text/plain": [
       "numpy.int32"
      ]
     },
     "execution_count": 19,
     "metadata": {},
     "output_type": "execute_result"
    }
   ],
   "source": [
    "type(valid_tp[0])"
   ]
  },
  {
   "cell_type": "code",
   "execution_count": 20,
   "metadata": {},
   "outputs": [
    {
     "data": {
      "image/png": "[encoded data removed]",
      "text/plain": [
       "<Figure size 432x288 with 1 Axes>"
      ]
     },
     "metadata": {
      "needs_background": "light"
     },
     "output_type": "display_data"
    },
    {
     "data": {
      "image/png": "[encoded data removed]",
      "text/plain": [
       "<Figure size 432x288 with 1 Axes>"
      ]
     },
     "metadata": {
      "needs_background": "light"
     },
     "output_type": "display_data"
    },
    {
     "data": {
      "image/png": "[encoded data removed]",
      "text/plain": [
       "<Figure size 432x288 with 1 Axes>"
      ]
     },
     "metadata": {
      "needs_background": "light"
     },
     "output_type": "display_data"
    }
   ],
   "source": [
    "import matplotlib.pyplot as plt\n",
    "%matplotlib inline\n",
    "\n",
    "plt.plot(range(len(train_loss)), train_loss, label=\"train loss\")\n",
    "plt.plot(range(len(valid_loss)), valid_loss, label=\"valid loss\")\n",
    "plt.legend()\n",
    "plt.title(\"Loss\")\n",
    "plt.show()\n",
    "\n",
    "plt.plot(range(len(train_acc)), train_acc, label=\"train accuracy\")\n",
    "plt.plot(range(len(valid_acc)), valid_acc, label=\"valid accuracy\")\n",
    "plt.legend()\n",
    "plt.title(\"Accuracy\")\n",
    "plt.show()\n",
    "\n",
    "plt.plot(range(len(valid_tp)), valid_tp, label=\"valid tp\", color=\"navy\")\n",
    "plt.plot(range(len(valid_tn)), valid_tn, label=\"valid tn\", color=\"red\")\n",
    "plt.legend()\n",
    "plt.title(\"True positives and True Negatives\")\n",
    "plt.show()\n"
   ]
  },
  {
   "cell_type": "code",
   "execution_count": null,
   "metadata": {},
   "outputs": [],
   "source": []
  }
 ],
 "metadata": {
  "kernelspec": {
   "display_name": "Python 3",
   "language": "python",
   "name": "python3"
  },
  "language_info": {
   "codemirror_mode": {
    "name": "ipython",
    "version": 3
   },
   "file_extension": ".py",
   "mimetype": "text/x-python",
   "name": "python",
   "nbconvert_exporter": "python",
   "pygments_lexer": "ipython3",
   "version": "3.7.3"
  }
 },
 "nbformat": 4,
 "nbformat_minor": 2
}
