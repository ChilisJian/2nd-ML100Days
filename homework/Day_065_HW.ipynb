{
 "cells": [
  {
   "cell_type": "markdown",
   "metadata": {},
   "source": [
    "# 作業\n",
    "* 選擇分類資料集(右下)-螺旋雙臂 - 交錯六群，限定特徵只能使用前兩個，隱藏層 2 層滿 (共 8 * 2 =16 個神經元)，  \n",
    "  遞迴次數只允許跑到500次，但可以自由調整 批次大小、學習速率、啟動函數、正規化選項與參數\n",
    "* 在上述限制下，挑戰看看測試誤差 (Test Loss) 最低能到多少? 請回答你的上述幾項參數與 Test Loss 數"
   ]
  },
  {
   "cell_type": "code",
   "execution_count": null,
   "metadata": {},
   "outputs": [],
   "source": [
    "Ans:\n",
    "    \n",
    "列出部份測試結果:\n",
    "以下分別為  \n",
    "Batch, learning rage, activation function, Regularization rate，分數(Test lost/training lost)\n",
    "\n",
    "4，0.003，tanh, none, 0.209/0.083\n",
    "4，0.03，tanh, none, 0.189/0.165\n",
    "4，0.1，tanh, none, 0.141/0.108\n",
    "8，0.1，tanh, L2+0.001, 0.083/0.084\n",
    "8，0.1，tanh, L2+0.001, 0.104/0.101\n",
    "6，0.1，tanh, L2+0.001, 0.104/0.101\n",
    "8，0.1，ReLu, L2+0.001, 0.142/0.116\n",
    "8，0.1，Signoid, L2+0.001, 0.487/0.490\n",
    "\n",
    "其中以上列第四個參數 8，0.1，tanh, L2+0.001, 0.083/0.084 \n",
    "的結果為最好\n",
    "\n",
    "\n",
    "\n"
   ]
  },
  {
   "cell_type": "markdown",
   "metadata": {
    "collapsed": true
   },
   "source": []
  }
 ],
 "metadata": {
  "kernelspec": {
   "display_name": "Python 3",
   "language": "python",
   "name": "python3"
  },
  "language_info": {
   "codemirror_mode": {
    "name": "ipython",
    "version": 3
   },
   "file_extension": ".py",
   "mimetype": "text/x-python",
   "name": "python",
   "nbconvert_exporter": "python",
   "pygments_lexer": "ipython3",
   "version": "3.7.3"
  }
 },
 "nbformat": 4,
 "nbformat_minor": 2
}
